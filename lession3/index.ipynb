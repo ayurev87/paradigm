{
 "cells": [
  {
   "cell_type": "code",
   "execution_count": 132,
   "metadata": {},
   "outputs": [],
   "source": [
    "class Rectangle:\n",
    "    def __init__(self , width , length):\n",
    "       self.width = width\n",
    "       self.length = length \n",
    "       \n",
    "    def __add__(self, other):\n",
    "       return self.area + other.area   \n",
    "\n",
    "    def __eq__(self, other):\n",
    "        return self.area == other.area\n",
    "    \n",
    "    def calc_area(self):\n",
    "        self.area = self.width * self.length\n",
    "        return self.area\n",
    "\n",
    "    def calc_perimeter(self):\n",
    "        self.perimeter = 2*(self.width + self.length)\n",
    "        return self.perimeter\n",
    "    \n",
    "    def calc_diag_len(self):\n",
    "        self.diag = (self.width ** 2 + self.length ** 2) ** 0.5\n",
    "        return self.diag\n",
    "    \n",
    "    def calc_diag_angles(self):\n",
    "        \"\"\"\n",
    "        Calculates and return two angles\n",
    "        between the diagonals in degress.\n",
    "        \"\"\"\n",
    "        if not hasattr(self, 'diag'):\n",
    "            self.calc_diag_len()\n",
    "\n",
    "\n",
    "        cos_diag_length = self.length / self.diag\n",
    "        angle_diag_length = math.acos(cos_diag_length)\n",
    "        angle_diag_length = math.degrees(angle_diag_length)\n",
    "        first_angle = 180 - angle_diag_length\n",
    "        second_angle = (360 - 2 * first_angle) / 2\n",
    "        assert first_angle + second_angle ==180\n",
    "        return first_angle, second_angle"
   ]
  },
  {
   "cell_type": "code",
   "execution_count": 133,
   "metadata": {},
   "outputs": [
    {
     "data": {
      "text/plain": [
       "800"
      ]
     },
     "execution_count": 133,
     "metadata": {},
     "output_type": "execute_result"
    }
   ],
   "source": [
    "r1 = Rectangle(1, 2)\n",
    "r2 = Rectangle(20, 40)\n",
    "r1.calc_area()\n",
    "r2.calc_area()"
   ]
  },
  {
   "cell_type": "code",
   "execution_count": 134,
   "metadata": {},
   "outputs": [
    {
     "data": {
      "text/plain": [
       "False"
      ]
     },
     "execution_count": 134,
     "metadata": {},
     "output_type": "execute_result"
    }
   ],
   "source": [
    "r1 == r2"
   ]
  },
  {
   "cell_type": "code",
   "execution_count": 135,
   "metadata": {},
   "outputs": [
    {
     "data": {
      "text/plain": [
       "802"
      ]
     },
     "execution_count": 135,
     "metadata": {},
     "output_type": "execute_result"
    }
   ],
   "source": [
    "r1 + r2"
   ]
  },
  {
   "cell_type": "code",
   "execution_count": 136,
   "metadata": {},
   "outputs": [],
   "source": [
    "import math"
   ]
  },
  {
   "cell_type": "code",
   "execution_count": null,
   "metadata": {},
   "outputs": [],
   "source": []
  },
  {
   "cell_type": "code",
   "execution_count": 137,
   "metadata": {},
   "outputs": [
    {
     "name": "stdout",
     "output_type": "stream",
     "text": [
      "20\n",
      "18\n",
      "6.4031242374328485\n"
     ]
    }
   ],
   "source": [
    "r = Rectangle(4, 5)\n",
    "print(r.calc_area())\n",
    "print(r.calc_perimeter())\n",
    "print(r.calc_diag_len())"
   ]
  },
  {
   "cell_type": "code",
   "execution_count": 138,
   "metadata": {},
   "outputs": [
    {
     "data": {
      "text/plain": [
       "(141.34019174590992, 38.65980825409008)"
      ]
     },
     "execution_count": 138,
     "metadata": {},
     "output_type": "execute_result"
    }
   ],
   "source": [
    "r.calc_diag_angles()"
   ]
  },
  {
   "cell_type": "code",
   "execution_count": null,
   "metadata": {},
   "outputs": [],
   "source": []
  }
 ],
 "metadata": {
  "kernelspec": {
   "display_name": "Python 3",
   "language": "python",
   "name": "python3"
  },
  "language_info": {
   "codemirror_mode": {
    "name": "ipython",
    "version": 3
   },
   "file_extension": ".py",
   "mimetype": "text/x-python",
   "name": "python",
   "nbconvert_exporter": "python",
   "pygments_lexer": "ipython3",
   "version": "3.10.5"
  },
  "orig_nbformat": 4
 },
 "nbformat": 4,
 "nbformat_minor": 2
}
